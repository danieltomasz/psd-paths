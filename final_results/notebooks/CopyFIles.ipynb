{
 "cells": [
  {
   "cell_type": "raw",
   "metadata": {},
   "source": [
    "---\n",
    "title: \"Untitled\"\n",
    "format: html\n",
    "---"
   ]
  },
  {
   "cell_type": "code",
   "execution_count": 2,
   "metadata": {},
   "outputs": [],
   "source": [
    "import shutil\n",
    "import os\n",
    "\n",
    "numbers = [\n",
    "    104,\n",
    "    108,\n",
    "    109,\n",
    "    110,\n",
    "    111,\n",
    "    113,\n",
    "    118,\n",
    "    120,\n",
    "    121,\n",
    "    129,\n",
    "    132,\n",
    "    144,\n",
    "    145,\n",
    "    147,\n",
    "    148,\n",
    "    150,\n",
    "]\n",
    "\n",
    "string_numbers = [str(number) for number in numbers]\n",
    "\n",
    "src_dir = \"/Users/daniel/PhD/Projects/psd-path/analysis\"\n",
    "dst_dir = \"/Users/daniel/PhD/Projects/psd-path/bad_subjects\"\n"
   ]
  },
  {
   "cell_type": "code",
   "execution_count": 3,
   "metadata": {},
   "outputs": [],
   "source": [
    "# copy raw files\n",
    "for number in string_numbers:\n",
    "    # Construct the source and destination file paths\n",
    "    src_file = os.path.join(src_dir, f\"sub-{number}_filtered_raw.fif\")\n",
    "    dst_file = os.path.join(dst_dir, f\"sub-{number}_filtered_raw.fif\")\n",
    "    # Copy the file\n",
    "    shutil.copy(src_file, dst_file)"
   ]
  }
 ],
 "metadata": {
  "kernelspec": {
   "display_name": "conda-paths-3.12",
   "language": "python",
   "name": "conda-paths-3.12"
  },
  "language_info": {
   "codemirror_mode": {
    "name": "ipython",
    "version": 3
   },
   "file_extension": ".py",
   "mimetype": "text/x-python",
   "name": "python",
   "nbconvert_exporter": "python",
   "pygments_lexer": "ipython3",
   "version": "3.12.3"
  }
 },
 "nbformat": 4,
 "nbformat_minor": 2
}
