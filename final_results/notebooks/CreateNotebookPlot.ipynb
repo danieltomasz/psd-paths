{
 "cells": [
  {
   "cell_type": "code",
   "execution_count": 17,
   "metadata": {},
   "outputs": [],
   "source": [
    "import nbformat  # type: ignore\n",
    "\n",
    "\n",
    "def add_kernel_metadata(nb):\n",
    "    nb[\"metadata\"][\"kernelspec\"] = {\n",
    "        \"display_name\": \"Python 3\",\n",
    "        \"language\": \"python\",\n",
    "        \"name\": \"conda-paths-3.12\",\n",
    "    }\n",
    "\n",
    "\n",
    "def add_yaml_metadata(nb):\n",
    "    raw_cell_content = \"\"\"---\n",
    "title: \"Preprocessing of High-Density EEG Recordings\"\n",
    "execute:\n",
    "    echo: false\n",
    "    warning: false\n",
    "    enabled: true\n",
    "format:\n",
    "    html:\n",
    "        page-layout: full\n",
    "        toc: true\n",
    "        toc-location: left\n",
    "        embed-resources: true\n",
    "---\"\"\"\n",
    "    nb[\"cells\"] += [nbformat.v4.new_raw_cell(raw_cell_content)]\n",
    "\n",
    "\n",
    "def add_import_cells(nb, backend=\"matplotlib\"):\n",
    "    functions_cell = \"\"\"import mne\n",
    "from specparam import SpectralGroupModel\n",
    "from utils import examine_spectra, plot_specparam_on_scalp, plot_models, save_specparam_results\n",
    "freq_range = [2, 40]\n",
    "fg = SpectralGroupModel(\n",
    "    peak_width_limits=[1, 6],\n",
    "    min_peak_height=0.15,\n",
    "    peak_threshold=2.0,\n",
    "    max_n_peaks=6,\n",
    "    verbose=False,\n",
    ")\n",
    "mne.set_config(\"MNE_BROWSER_BACKEND\", \"{backend}\")\"\"\"\n",
    "    nb[\"cells\"] += [nbformat.v4.new_markdown_cell(\"## Import libraries\")]\n",
    "    nb[\"cells\"] += [nbformat.v4.new_code_cell(functions_cell.format(backend=backend))]\n",
    "\n",
    "\n",
    "def examine_subject(nb, sub_id: int):\n",
    "    examine_cell = \"\"\"subject = \"{sub_id}\"\n",
    "epochs = mne.read_epochs(f\"sub-{sub_id}_interpolated-epo.fif\")\n",
    "_ = epochs.compute_psd().plot_topomap()\n",
    "_ = epochs.compute_psd(fmin=1, fmax=40).plot(picks=\"eeg\", amplitude=False)\n",
    "\n",
    "psd = epochs.compute_psd().average()\n",
    "spectra, freqs = psd.get_data(return_freqs=True)\n",
    "# Initialize a FOOOFGroup object, with desired settings\n",
    "\n",
    "# Define the frequency range to fit\n",
    "\n",
    "fg.fit(freqs, spectra, freq_range)\n",
    "fg.plot()\n",
    "plot_specparam_on_scalp(fg, epochs, subject)\n",
    "\n",
    "good_epochs = mne.read_epochs(\n",
    "    f\"sub-{{subject}}_good_epochs-epo.fif\", preload=True\n",
    ")\n",
    "n_interpolated_channels = len(good_epochs.info[\"bads\"])\n",
    "\n",
    "ica_loaded = mne.preprocessing.read_ica(f\"sub-{{subject}}_my_ica_model-ica.fif\")\n",
    "save_specparam_results(\n",
    "    fg, epochs, ica_loaded, subject, n_interpolated_channels)\n",
    "examine_spectra(fg, subject)\n",
    "# plot models that are smallest, median and highest exponent\n",
    "# plot_models(fg, param_choice=\"exponent\")\n",
    "# plot models with worst, median and best goodness of fit\n",
    "# plot_models(fg, param_choice=\"r_squared\")\"\"\"\n",
    "    nb[\"cells\"] += [\n",
    "        nbformat.v4.new_markdown_cell(\"## Examine subject {}\".format(sub_id))\n",
    "    ]\n",
    "    nb[\"cells\"] += [nbformat.v4.new_code_cell(examine_cell.format(sub_id=sub_id))]"
   ]
  },
  {
   "cell_type": "code",
   "execution_count": 18,
   "metadata": {},
   "outputs": [
    {
     "name": "stdout",
     "output_type": "stream",
     "text": [
      "Number of  very good subjects: 26\n"
     ]
    }
   ],
   "source": [
    "numbers = [\n",
    "    101,\n",
    "    105,\n",
    "    107,\n",
    "    112,\n",
    "    114,\n",
    "    115,\n",
    "    116,\n",
    "    119,\n",
    "    122,\n",
    "    123,\n",
    "    125,\n",
    "    127,\n",
    "    128,\n",
    "    131,\n",
    "    134,\n",
    "    135,\n",
    "    136,\n",
    "    137,\n",
    "    138,\n",
    "    139,\n",
    "    140,\n",
    "    142,\n",
    "    143,\n",
    "    146,\n",
    "    149,\n",
    "    152,\n",
    "]\n",
    "print(\"Number of  very good subjects:\", len(numbers))\n",
    "output_path = \"../PlotVeryGoodSubjectPSD.ipynb\"\n",
    "# create notebook\n",
    "nb = nbformat.v4.new_notebook()\n",
    "add_kernel_metadata(nb)\n",
    "add_yaml_metadata(nb)\n",
    "add_import_cells(nb)\n",
    "for sub_id in numbers:\n",
    "    examine_subject(nb, sub_id)\n",
    "with open(output_path, \"w\", encoding=\"utf-8\") as f:\n",
    "    nbformat.write(nb, f)"
   ]
  },
  {
   "cell_type": "code",
   "execution_count": 19,
   "metadata": {},
   "outputs": [
    {
     "name": "stdout",
     "output_type": "stream",
     "text": [
      "Number of   subjects  to check: 16\n"
     ]
    }
   ],
   "source": [
    "Subject2checkPSD = [\n",
    "    101,\n",
    "    106,\n",
    "    108,\n",
    "    120,\n",
    "    124,\n",
    "    126,\n",
    "    128,\n",
    "    129,\n",
    "    132,\n",
    "    135,\n",
    "    139,\n",
    "    142,\n",
    "    144,\n",
    "    145,\n",
    "    146,\n",
    "    147,\n",
    "]\n",
    "print(\"Number of   subjects  to check:\", len(Subject2checkPSD))\n",
    "output_path = \"../PlotSubject2checkPSD.ipynb\"\n",
    "# create notebook\n",
    "nb = nbformat.v4.new_notebook()\n",
    "add_kernel_metadata(nb)\n",
    "add_yaml_metadata(nb)\n",
    "add_import_cells(nb)\n",
    "for sub_id in Subject2checkPSD:\n",
    "    examine_subject(nb, sub_id)\n",
    "with open(output_path, \"w\", encoding=\"utf-8\") as f:\n",
    "    nbformat.write(nb, f)"
   ]
  },
  {
   "cell_type": "code",
   "execution_count": 20,
   "metadata": {},
   "outputs": [
    {
     "name": "stdout",
     "output_type": "stream",
     "text": [
      "Number of   subjects  to check: 16\n"
     ]
    }
   ],
   "source": [
    "subjects_with_artefacts = [\n",
    "    104,\n",
    "    108,\n",
    "    109,\n",
    "    110,\n",
    "    111,\n",
    "    113,\n",
    "    118,\n",
    "    120,\n",
    "    121,\n",
    "    129,\n",
    "    132,\n",
    "    144,\n",
    "    145,\n",
    "    147,\n",
    "    148,\n",
    "    150,\n",
    "]\n",
    "print(\"Number of   subjects  to check:\", len(subjects_with_artefacts))\n",
    "output_path = \"../PlotSubjects_with_ArtefactsPSD.ipynb\"\n",
    "# create notebook\n",
    "nb = nbformat.v4.new_notebook()\n",
    "add_kernel_metadata(nb)\n",
    "add_yaml_metadata(nb)\n",
    "add_import_cells(nb)\n",
    "for sub_id in subjects_with_artefacts:\n",
    "    examine_subject(nb, sub_id)\n",
    "with open(output_path, \"w\", encoding=\"utf-8\") as f:\n",
    "    nbformat.write(nb, f)"
   ]
  },
  {
   "cell_type": "code",
   "execution_count": 21,
   "metadata": {},
   "outputs": [
    {
     "name": "stdout",
     "output_type": "stream",
     "text": [
      "Number of   subjects  to check: 6\n"
     ]
    }
   ],
   "source": [
    "bad_subjects = [102, 103, 106, 124, 126, 151]\n",
    "print(\"Number of   subjects  to check:\", len(bad_subjects))\n",
    "output_path = \"../PlotBadSubjectPSD.ipynb\"\n",
    "# create notebook\n",
    "nb = nbformat.v4.new_notebook()\n",
    "add_kernel_metadata(nb)\n",
    "add_yaml_metadata(nb)\n",
    "add_import_cells(nb)\n",
    "for sub_id in bad_subjects:\n",
    "    examine_subject(nb, sub_id)\n",
    "with open(output_path, \"w\", encoding=\"utf-8\") as f:\n",
    "    nbformat.write(nb, f)"
   ]
  }
 ],
 "metadata": {
  "kernelspec": {
   "display_name": "conda-paths-3.12",
   "language": "python",
   "name": "conda-paths-3.12"
  },
  "language_info": {
   "codemirror_mode": {
    "name": "ipython",
    "version": 3
   },
   "file_extension": ".py",
   "mimetype": "text/x-python",
   "name": "python",
   "nbconvert_exporter": "python",
   "pygments_lexer": "ipython3",
   "version": "3.12.3"
  }
 },
 "nbformat": 4,
 "nbformat_minor": 2
}
