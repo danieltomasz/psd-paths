{
 "cells": [
  {
   "cell_type": "raw",
   "id": "f764945e",
   "metadata": {},
   "source": [
    "---\n",
    "title: \"Preprocessing of High-Density EEG Recordings\"\n",
    "execute:\n",
    "    echo: false\n",
    "    warning: false\n",
    "    enabled: true\n",
    "format:\n",
    "    html:\n",
    "        page-layout: full\n",
    "        toc: true\n",
    "        toc-location: left\n",
    "        embed-resources: true\n",
    "---"
   ]
  },
  {
   "cell_type": "markdown",
   "id": "7d981545",
   "metadata": {},
   "source": [
    "## Import libraries"
   ]
  },
  {
   "cell_type": "code",
   "execution_count": 1,
   "id": "5bc10b00",
   "metadata": {},
   "outputs": [
    {
     "ename": "ModuleNotFoundError",
     "evalue": "No module named 'utils'",
     "output_type": "error",
     "traceback": [
      "\u001b[0;31m---------------------------------------------------------------------------\u001b[0m",
      "\u001b[0;31mModuleNotFoundError\u001b[0m                       Traceback (most recent call last)",
      "Cell \u001b[0;32mIn[1], line 14\u001b[0m\n\u001b[1;32m     12\u001b[0m \u001b[38;5;28;01mimport\u001b[39;00m \u001b[38;5;21;01mmatplotlib\u001b[39;00m\u001b[38;5;21;01m.\u001b[39;00m\u001b[38;5;21;01mcolors\u001b[39;00m \u001b[38;5;28;01mas\u001b[39;00m \u001b[38;5;21;01mcolors\u001b[39;00m\n\u001b[1;32m     13\u001b[0m \u001b[38;5;28;01mimport\u001b[39;00m \u001b[38;5;21;01mnumpy\u001b[39;00m \u001b[38;5;28;01mas\u001b[39;00m \u001b[38;5;21;01mnp\u001b[39;00m\n\u001b[0;32m---> 14\u001b[0m \u001b[38;5;28;01mfrom\u001b[39;00m \u001b[38;5;21;01mutils\u001b[39;00m \u001b[38;5;28;01mimport\u001b[39;00m (\n\u001b[1;32m     15\u001b[0m     compare_before_after,\n\u001b[1;32m     16\u001b[0m     create_epochs,\n\u001b[1;32m     17\u001b[0m     switch_bad_to_interpolate,\n\u001b[1;32m     18\u001b[0m     update_reject_log,\n\u001b[1;32m     19\u001b[0m     plot_specparam_on_scalp,\n\u001b[1;32m     20\u001b[0m     examine_spectra,\n\u001b[1;32m     21\u001b[0m     exclude_bad_channels,\n\u001b[1;32m     22\u001b[0m     extract_elements,\n\u001b[1;32m     23\u001b[0m     save_specparam_results,\n\u001b[1;32m     24\u001b[0m     plot_models\n\u001b[1;32m     25\u001b[0m )\n\u001b[1;32m     26\u001b[0m plt\u001b[38;5;241m.\u001b[39mclose(\u001b[38;5;124m\"\u001b[39m\u001b[38;5;124mall\u001b[39m\u001b[38;5;124m\"\u001b[39m)\n\u001b[1;32m     28\u001b[0m \u001b[38;5;66;03m# mne.viz.set_browser_backend(\"matplotlib\") # As an alternative, you can use \"qt\" for the Qt backend\u001b[39;00m\n",
      "\u001b[0;31mModuleNotFoundError\u001b[0m: No module named 'utils'"
     ]
    }
   ],
   "source": [
    "import os\n",
    "import pandas as pd\n",
    "import re\n",
    "import mne\n",
    "import matplotlib.pyplot as plt\n",
    "from mne.preprocessing import ICA\n",
    "from mne_icalabel.gui import label_ica_components\n",
    "import autoreject\n",
    "from specparam.plts.spectra import plot_spectra\n",
    "from specparam import SpectralGroupModel\n",
    "import matplotlib.pyplot as plt\n",
    "import matplotlib.colors as colors\n",
    "import numpy as np\n",
    "from utils import (\n",
    "    compare_before_after,\n",
    "    create_epochs,\n",
    "    switch_bad_to_interpolate,\n",
    "    update_reject_log,\n",
    "    plot_specparam_on_scalp,\n",
    "    examine_spectra,\n",
    "    exclude_bad_channels,\n",
    "    extract_elements,\n",
    "    save_specparam_results,\n",
    "    plot_models,\n",
    ")\n",
    "\n",
    "plt.close(\"all\")\n",
    "\n",
    "# mne.viz.set_browser_backend(\"matplotlib\") # As an alternative, you can use \"qt\" for the Qt backend\n",
    "mne.set_config(\"MNE_BROWSER_BACKEND\", \"qt\")\n",
    "\n",
    "\n",
    "auto_reject_params = {\n",
    "    \"n_interpolate\": [1, 2, 16, 32],\n",
    "    \"n_jobs\": -1,\n",
    "    \"random_state\": 100,\n",
    "    \"thresh_method\": \"bayesian_optimization\",\n",
    "    \"verbose\": False,\n",
    "    \"consensus\": [0.8],\n",
    "}\n",
    "\n",
    "auto_reject_pre_ica = autoreject.AutoReject(**auto_reject_params)\n",
    "\n",
    "fmax = 40.0\n",
    "fg = SpectralGroupModel(\n",
    "    peak_width_limits=[1, 6],\n",
    "    min_peak_height=0.15,\n",
    "    peak_threshold=2.0,\n",
    "    max_n_peaks=6,\n",
    "    verbose=False,\n",
    ")\n",
    "recompute = False\n"
   ]
  },
  {
   "cell_type": "markdown",
   "id": "36466d73",
   "metadata": {},
   "source": [
    "# Subject 147"
   ]
  },
  {
   "cell_type": "code",
   "execution_count": null,
   "id": "be762c94",
   "metadata": {},
   "outputs": [],
   "source": [
    "# import raw data or epochs\n",
    "subject = 147\n",
    "auto_reject_params = {\n",
    "    \"n_interpolate\": [\n",
    "        1,\n",
    "        2,\n",
    "    ],\n",
    "    \"n_jobs\": -1,\n",
    "    \"random_state\": 100,\n",
    "    \"thresh_method\": \"bayesian_optimization\",\n",
    "    \"verbose\": False,\n",
    "    \"consensus\": [0.4],\n",
    "}\n",
    "# epochs_params = {\"reject\": dict(eeg=400e-6)}\n",
    "# Check if the file exists\n",
    "\n",
    "df = pd.read_excel(\"ICA TO REMOVE.xlsx\")\n",
    "\n",
    "channels_to_add = [\"E\" + str(ch) for ch in extract_elements(df, 147, \"Bad_Channels\")]\n",
    "print(channels_to_add)\n",
    "raw = mne.io.read_raw_fif(f\"sub-{subject}_filtered_raw.fif\", preload=True).filter(\n",
    "    l_freq=1.0, h_freq=None\n",
    ")\n",
    "for channel in channels_to_add:\n",
    "    raw.info[\"bads\"].append(channel)\n",
    "\n",
    "raw.plot()\n",
    "\n",
    "epochs = create_epochs(raw, epochs_params=None, length=5, overlap=1.5)\n",
    "\n",
    "autoreject_fname = f\"sub-{subject}_auto_reject_pre_ica.h5\"\n",
    "if os.path.exists(autoreject_fname) and recompute is False:\n",
    "    auto_reject_pre_ica = autoreject.read_auto_reject(autoreject_fname)\n",
    "    print(f\"File {autoreject_fname} exists. Loading file\")\n",
    "else:\n",
    "    print(f\"File {autoreject_fname} does not exist.\")\n",
    "    auto_reject_pre_ica = autoreject.AutoReject(**auto_reject_params).fit(epochs[:20])\n",
    "    print(\"fitting finished\")\n",
    "    auto_reject_pre_ica.save(autoreject_fname, overwrite=True)\n",
    "    print(f\"File {autoreject_fname} saved\")\n",
    "\n",
    "epochs_ar, reject_log = auto_reject_pre_ica.transform(epochs, return_log=True)\n",
    "reject_plot = reject_log.plot(\"vertical\")"
   ]
  },
  {
   "cell_type": "code",
   "execution_count": null,
   "id": "9a7c6b2d",
   "metadata": {},
   "outputs": [],
   "source": [
    "scalings = dict(eeg=60e-6)\n",
    "\n",
    "df = pd.read_excel(\"ICA TO REMOVE.xlsx\")\n",
    "bad_epochs_indices = extract_elements(df, 147, \"Epochs\")\n",
    "\n",
    "if len(bad_epochs_indices) > 0:\n",
    "    zeroed_reject_log = switch_bad_to_interpolate(reject_log)\n",
    "    new_reject_log = update_reject_log(zeroed_reject_log, bad_epochs_indices)\n",
    "else:\n",
    "    new_reject_log = reject_log\n",
    "new_reject_log.save(f\"sub-{subject}_reject_log_updated.h5\", overwrite=True)"
   ]
  },
  {
   "cell_type": "code",
   "execution_count": null,
   "id": "8c9154e8",
   "metadata": {},
   "outputs": [],
   "source": [
    "# plot bad epochs if exists\n",
    "new_reject_log.plot_epochs(epochs, scalings=scalings)\n",
    "epochs[new_reject_log.bad_epochs].plot(scalings=scalings)\n",
    "epochs[~new_reject_log.bad_epochs].plot(scalings=scalings)"
   ]
  },
  {
   "cell_type": "markdown",
   "id": "61659393",
   "metadata": {},
   "source": [
    "## ICA"
   ]
  },
  {
   "cell_type": "code",
   "execution_count": null,
   "id": "dfefaeb7",
   "metadata": {},
   "outputs": [],
   "source": [
    "# Compute ICA\n",
    "ica_params = {\n",
    "    \"n_components\": 0.99,\n",
    "    \"random_state\": 99,\n",
    "    \"method\": \"picard\",\n",
    "    \"fit_params\": {\"ortho\": False, \"extended\": True},\n",
    "}\n",
    "\n",
    "ica = ICA(**ica_params)\n",
    "new_epochs = epochs[~new_reject_log.bad_epochs]\n",
    "\n",
    "ica.fit(new_epochs)\n",
    "if ica.n_components_ > 50:\n",
    "    ica_params = {\n",
    "        \"n_components\": 50,\n",
    "        \"random_state\": 99,\n",
    "        \"method\": \"picard\",\n",
    "        \"fit_params\": {\"ortho\": False, \"extended\": True},\n",
    "    }\n",
    "    ica = ICA(**ica_params)\n",
    "    ica.fit(new_epochs)"
   ]
  },
  {
   "cell_type": "code",
   "execution_count": null,
   "id": "d863411b",
   "metadata": {},
   "outputs": [],
   "source": [
    "# Plot bad components\n",
    "# plot  ica with bad components\n",
    "df = pd.read_excel(\"ICA TO REMOVE.xlsx\")\n",
    "ica_bad_components = extract_elements(df, 147, \"ICA_3Take\")\n",
    "print(ica_bad_components)\n",
    "# quick  comparison\n",
    "ica.exclude = ica_bad_components\n",
    "_ = ica.plot_components()"
   ]
  },
  {
   "cell_type": "code",
   "execution_count": null,
   "id": "c9c6e4c9",
   "metadata": {},
   "outputs": [],
   "source": [
    "# Plot bad components\n",
    "# plot  ica with bad components\n",
    "if mne.get_config(\"MNE_BROWSER_BACKEND\") == \"qt\":\n",
    "    ica.exclude = ica_bad_components\n",
    "    ica_plot_whole_timeseries = ica.plot_sources(\n",
    "        new_epochs,\n",
    "        picks=None,\n",
    "        show_scrollbars=True,\n",
    "    )\n",
    "    gui = label_ica_components(new_epochs, ica)\n",
    "\n",
    "else:\n",
    "    ica.exclude = []\n",
    "    ica_plot_whole_timeseries = ica.plot_sources(\n",
    "        new_epochs,\n",
    "        picks=ica_bad_components,\n",
    "        show_scrollbars=False,\n",
    "        start=0,\n",
    "        stop=len(new_epochs) - 1,\n",
    "    )"
   ]
  },
  {
   "cell_type": "code",
   "execution_count": null,
   "id": "13ccba51",
   "metadata": {},
   "outputs": [],
   "source": [
    "# Compare bad data\n",
    "ica.exclude = ica_bad_components\n",
    "ica.save(f\"sub-147_my_ica_model-ica.fif\", overwrite=True)\n",
    "epochs_clean_manual = ica.apply(new_epochs.copy(), exclude=ica.exclude)\n",
    "fig_psd = compare_before_after(\n",
    "    epochs[~new_reject_log.bad_epochs],\n",
    "    epochs_clean_manual,\n",
    "    subject,\n",
    ")"
   ]
  },
  {
   "cell_type": "markdown",
   "id": "45eb539d",
   "metadata": {},
   "source": [
    "## Extrapolation of bad channels using autoreject"
   ]
  },
  {
   "cell_type": "code",
   "execution_count": null,
   "id": "da4e7668",
   "metadata": {},
   "outputs": [],
   "source": [
    "auto_reject_post_ica = autoreject.AutoReject(\n",
    "    n_interpolate=[1, 2, 4, 8, 32, 64],\n",
    "    n_jobs=-1,\n",
    "    random_state=100,\n",
    "    thresh_method=\"bayesian_optimization\",\n",
    "    verbose=False,\n",
    "    # n_interpolate=np.array([0]),\n",
    "    # consensus=0.8,\n",
    ").fit(epochs_clean_manual[:20])\n",
    "print(\"fitting finished\")\n",
    "epochs_ar, reject_log_final = auto_reject_post_ica.transform(\n",
    "    epochs_clean_manual, return_log=True\n",
    ")\n",
    "autoreject_post_fname = f\"sub-{subject}_auto_reject_post_ica.h5\"\n",
    "auto_reject_post_ica.save(autoreject_post_fname, overwrite=True)\n",
    "\n",
    "reject_plot = reject_log_final.plot(\"vertical\")\n",
    "reject_log_final.save(f\"sub-{subject}_reject_log_final.h5\", overwrite=True)\n",
    "\n",
    "epochs_interpolated = epochs_ar.copy().interpolate_bads(exclude=[\"VREF\"])\n",
    "epochs_interpolated.save(f\"analysis/sub-{subject}_interpolated-epo.fif\", overwrite=True)"
   ]
  },
  {
   "cell_type": "markdown",
   "id": "f4702925",
   "metadata": {},
   "source": [
    "## Comparison of EEG data"
   ]
  },
  {
   "cell_type": "code",
   "execution_count": null,
   "id": "9d3b5065",
   "metadata": {},
   "outputs": [],
   "source": [
    "# plot comparison\n",
    "fig_psd1 = compare_before_after(\n",
    "    epochs_clean_manual, epochs_interpolated, subject, title=\"After AR\"\n",
    ")"
   ]
  },
  {
   "cell_type": "markdown",
   "id": "aadd47a0",
   "metadata": {},
   "source": [
    "## Specparam visualisation"
   ]
  },
  {
   "cell_type": "code",
   "execution_count": null,
   "id": "434df034",
   "metadata": {},
   "outputs": [],
   "source": [
    "from utils import (\n",
    "    save_specparam_results,\n",
    "    plot_specparam_on_scalp,\n",
    "    examine_spectra,\n",
    "    plot_models,\n",
    ")\n",
    "\n",
    "subject = 147\n",
    "raw = mne.io.read_raw_fif(f\"sub-{subject}_filtered_raw.fif\", preload=True).filter(\n",
    "    l_freq=1.0, h_freq=None\n",
    ")\n",
    "n_interpolated_channels = len(raw.info[\"bads\"])\n",
    "# epochs = create_epochs(raw, epochs_params=None, length=5, overlap=1.5)\n",
    "epochs_interpolated = mne.read_epochs(\n",
    "    f\"analysis/sub-{subject}_interpolated-epo.fif\", preload=True\n",
    ")\n",
    "ica_loaded = mne.preprocessing.read_ica(f\"sub-{subject}_my_ica_model-ica.fif\")\n",
    "\n",
    "psd = epochs_interpolated.compute_psd().average()\n",
    "spectra, freqs = psd.get_data(return_freqs=True)\n",
    "# Initialize a FOOOFGroup object, with desired settings\n",
    "\n",
    "# Define the frequency range to fit\n",
    "freq_range = [2, 40]\n",
    "fg.fit(freqs, spectra, freq_range)\n",
    "fg.plot()\n",
    "specparam_df = save_specparam_results(\n",
    "    fg,\n",
    "    epochs_interpolated,\n",
    "    ica_loaded,\n",
    "    subject,\n",
    "    n_interpolated_channels=n_interpolated_channels,\n",
    ")\n",
    "display(specparam_df.head())\n",
    "# epochs_ar_good = exclude_bad_channels(epochs_interpolated)\n",
    "\n",
    "plot_specparam_on_scalp(fg, epochs_interpolated, subject)\n",
    "examine_spectra(fg, subject)\n"
   ]
  },
  {
   "cell_type": "code",
   "execution_count": null,
   "id": "4d4788ae",
   "metadata": {},
   "outputs": [],
   "source": [
    "# plot models that are smallest, median and highest exponent\n",
    "plot_models(fg, param_choice=\"exponent\")"
   ]
  },
  {
   "cell_type": "code",
   "execution_count": null,
   "id": "8ae474ee",
   "metadata": {},
   "outputs": [],
   "source": [
    "# plot models with worst, median and best goodness of fit\n",
    "plot_models(fg, param_choice=\"r_squared\")"
   ]
  },
  {
   "cell_type": "code",
   "execution_count": null,
   "id": "833c05aa",
   "metadata": {},
   "outputs": [],
   "source": [
    "plt.close(\"all\")"
   ]
  }
 ],
 "metadata": {
  "kernelspec": {
   "display_name": "conda-paths-3.12",
   "language": "python",
   "name": "conda-paths-3.12"
  },
  "language_info": {
   "codemirror_mode": {
    "name": "ipython",
    "version": 3
   },
   "file_extension": ".py",
   "mimetype": "text/x-python",
   "name": "python",
   "nbconvert_exporter": "python",
   "pygments_lexer": "ipython3",
   "version": "3.12.3"
  }
 },
 "nbformat": 4,
 "nbformat_minor": 5
}
