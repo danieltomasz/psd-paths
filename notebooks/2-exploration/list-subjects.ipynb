{
 "cells": [
  {
   "cell_type": "raw",
   "metadata": {},
   "source": [
    "---\n",
    "title: \"Untitled\"\n",
    "format: html\n",
    "---"
   ]
  },
  {
   "cell_type": "code",
   "execution_count": 4,
   "metadata": {},
   "outputs": [
    {
     "data": {
      "text/plain": [
       "array(['101', '102', '103', '104', '105', '106', '107', '108', '109',\n",
       "       '110', '111', '112', '113', '114', '115', '116', '118', '119',\n",
       "       '120', '121', '122', '123', '124', '125', '126', '127', '128',\n",
       "       '129', '131', '132', '134', '135', '136', '137', '138', '139',\n",
       "       '140', '142', '143', '144', '145', '146', '147', '148', '149',\n",
       "       '150', '151', '152'], dtype='<U3')"
      ]
     },
     "execution_count": 4,
     "metadata": {},
     "output_type": "execute_result"
    }
   ],
   "source": [
    "import re\n",
    "import toml\n",
    "from pathlib import Path\n",
    "import numpy as np\n",
    "\n",
    "config = toml.load(\"../../.env.toml\")\n",
    "project_path = config[\"project\"][\"path\"]\n",
    "\n",
    "# Assuming 'bids_paths' is your folder path\n",
    "\n",
    "\n",
    "def extract_numbers(bids_paths):\n",
    "    # Initialize an empty list to store the numbers\n",
    "    numbers = []\n",
    "\n",
    "    # Get all the child directories\n",
    "    for path in bids_paths.glob(\"*\"):\n",
    "        if path.is_dir():\n",
    "            # Convert the path to a string\n",
    "            str_path = str(path)\n",
    "\n",
    "            # Find all three-digit numbers in the string\n",
    "            matches = re.findall(r\"\\b\\d{3}\\b\", str_path)\n",
    "\n",
    "            # Add the numbers to the list\n",
    "            numbers.extend(matches)\n",
    "\n",
    "    # Now 'numbers' is a list of all three-digit numbers in the child directory names\n",
    "    return np.sort(numbers)\n",
    "\n",
    "\n",
    "bids_folder = Path(f\"{project_path}/data/raw/BIDS/\")\n",
    "\n",
    "# Initialize an empty list to store the numbers\n",
    "numbers = extract_numbers(bids_folder)\n",
    "numbers"
   ]
  }
 ],
 "metadata": {
  "kernelspec": {
   "display_name": "conda-paths-3.12",
   "language": "python",
   "name": "conda-paths-3.12"
  },
  "language_info": {
   "codemirror_mode": {
    "name": "ipython",
    "version": 3
   },
   "file_extension": ".py",
   "mimetype": "text/x-python",
   "name": "python",
   "nbconvert_exporter": "python",
   "pygments_lexer": "ipython3",
   "version": "3.12.2"
  }
 },
 "nbformat": 4,
 "nbformat_minor": 2
}
