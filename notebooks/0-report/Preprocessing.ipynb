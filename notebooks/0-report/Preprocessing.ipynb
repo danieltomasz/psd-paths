{
 "cells": [
  {
   "cell_type": "raw",
   "metadata": {},
   "source": [
    "---\n",
    "title: \"Preprocessing of High-Density EEG Recordings\"\n",
    "format:\n",
    "    html:\n",
    "        embed-resources: true\n",
    "---"
   ]
  },
  {
   "cell_type": "markdown",
   "metadata": {},
   "source": [
    "# Preprocessing of High-Density EEG Recordings\n"
   ]
  },
  {
   "cell_type": "markdown",
   "metadata": {},
   "source": [
    "# Introduction\n",
    "\n",
    "This report present a spectral analysis of a resting-state high-density EEG recordings.\n",
    "This dataset came with `GSN-HydroCel-257` EEG cap, which has 257 electrodes. The data was recorded at 1000 Hz sampling rate for 5 minutes with eyes closed. The preprocessing has the following steps:\n",
    "\n",
    "## Preprocessing Steps\n",
    "\n",
    "- Independent Component Analysis (ICA) was employed to remove eye blinks and other artifacts.\n",
    "- Bad channels were identified, marked, and interpolated using the nearest neighbours.\n",
    "- A bandpass filter of 0.5 - 70 Hz was applied, in line with the dataset authors' pre-filtering.\n",
    "\n",
    "## Spectral Analysis\n",
    "\n",
    "- Calculation of power spectral density (PSD) and topographic maps\n"
   ]
  },
  {
   "cell_type": "code",
   "execution_count": null,
   "metadata": {},
   "outputs": [],
   "source": []
  }
 ],
 "metadata": {
  "language_info": {
   "name": "python"
  }
 },
 "nbformat": 4,
 "nbformat_minor": 2
}
