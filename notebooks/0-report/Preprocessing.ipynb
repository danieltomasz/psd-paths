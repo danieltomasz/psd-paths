{
 "cells": [
  {
   "cell_type": "raw",
   "metadata": {},
   "source": [
    "---\n",
    "title: \"Preprocessing of High-Density EEG Recordings\"\n",
    "format:\n",
    "    html:\n",
    "        embed-resources: true\n",
    "---"
   ]
  },
  {
   "cell_type": "markdown",
   "metadata": {},
   "source": [
    "# Preprocessing of High-Density EEG Recordings\n"
   ]
  },
  {
   "cell_type": "markdown",
   "metadata": {},
   "source": [
    "# Introduction\n",
    "\n",
    "This report present a spectral analysis of a resting-state high-density EEG recordings.\n",
    "This dataset came with `GSN-HydroCel-257` EEG cap, which has 257 electrodes. The data was recorded at 1000 Hz sampling rate for 5 minutes with eyes closed. The preprocessing has the following steps:\n",
    "\n",
    "## Preprocessing Steps\n",
    "\n",
    "- Independent Component Analysis (ICA) was employed to remove eye blinks and other artifacts.\n",
    "- Bad channels were identified, marked, and interpolated using the nearest neighbours.\n",
    "- A bandpass filter of 0.5 - 70 Hz was applied, in line with the dataset authors' pre-filtering.\n",
    "\n",
    "## Spectral Analysis\n",
    "\n",
    "- Calculation of power spectral density (PSD) and topographic maps\n"
   ]
  },
  {
   "cell_type": "markdown",
   "metadata": {},
   "source": [
    "Data preprocessing was performed using the MNE-Python toolbox (v.1.6; Gramfort et al., 2014; python v3.12.2) unless stated otherwise.\n",
    "EEG data was downsampled to 500 Hz and filtered (higp pass 1 Hzm low pass 100 Hz, zero-phase FIR filter with a Hamming window).\n",
    "Line noise (50 Hz) was removed using an iterative version of the Zapline algorithm (de Cheveign´e, 2020) implemented in the MEEGKit package (https://nbara.github.io/python-meegkit/ v0.1.7), using a window size of 20 Hz for\n",
    "polynomial fitting and 10 Hz for noise peak removal and interpolation, similary to Szul et al. 2022.\n",
    "Autoreject (v0.4.2.0; Jas et al., 2017) was used to find bad channesl using RANSAC reference. Data was removed to 5 sec epochs and autoreject was used to remove bad epochs and interpolate them using the default settings.\n",
    "Additionally, an ICA with was performed with the pre-trained classifier ICLabel to reduce non-brain artifacts.\n",
    "Each component classified with a probability of 0.8 for the artifacts of muscle activity and eye activity, heart artifacts, line noise, and electrode noise was removed from the data (Popov et al. - 2021 )\n",
    "\n",
    "Szul et al. 2022 - Diverse beta burst waveform motifs characterize movement-related cortical dynamics\n",
    "Popov et al. - 2021 - Alpha oscillations link action to cognition An oculomotor account of the brain's do\n"
   ]
  }
 ],
 "metadata": {
  "language_info": {
   "name": "python"
  }
 },
 "nbformat": 4,
 "nbformat_minor": 2
}
