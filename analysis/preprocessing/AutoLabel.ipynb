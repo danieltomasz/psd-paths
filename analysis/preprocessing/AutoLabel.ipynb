{
 "cells": [
  {
   "cell_type": "raw",
   "id": "f66f058d",
   "metadata": {},
   "source": [
    "---\n",
    "title: \"Untitled\"\n",
    "format: html\n",
    "---"
   ]
  },
  {
   "cell_type": "code",
   "execution_count": 1,
   "id": "56b7f588",
   "metadata": {},
   "outputs": [
    {
     "name": "stdout",
     "output_type": "stream",
     "text": [
      "Using matplotlib as 2D backend.\n",
      "Created directories for sub-101\n",
      "Project root: /Users/daniel/PhD/Projects/psd-paths\n",
      "Setting up project paths: 2025-07-15 01:09:07\n",
      "────────────────────────────────────────────────────────────\n",
      "Paths for sub-101\n",
      "Project Root: /Users/daniel/PhD/Projects/psd-paths\n",
      "────────────────────────────────────────────────────────────\n",
      "  analysis     : /Users/daniel/PhD/Projects/psd-paths/data/derrivatives/sub-101/analysis\n",
      "  data         : /Users/daniel/PhD/Projects/psd-paths/data/raw/sub-101\n",
      "  epochs       : /Users/daniel/PhD/Projects/psd-paths/data/derrivatives/sub-101/epochs\n",
      "  figures      : /Users/daniel/PhD/Projects/psd-paths/outputs/sub-101/figures\n",
      "  logs         : /Users/daniel/PhD/Projects/psd-paths/data/derrivatives/sub-101/logs\n",
      "  outputs      : /Users/daniel/PhD/Projects/psd-paths/outputs/sub-101\n",
      "  preprocessed : /Users/daniel/PhD/Projects/psd-paths/data/derrivatives/sub-101/preprocessed\n",
      "  processing   : /Users/daniel/PhD/Projects/psd-paths/data/derrivatives/sub-101\n",
      "  reports      : /Users/daniel/PhD/Projects/psd-paths/outputs/sub-101/reports\n",
      "────────────────────────────────────────────────────────────\n"
     ]
    }
   ],
   "source": [
    "from pathlib import Path\n",
    "import os\n",
    "import mne\n",
    "import matplotlib.pyplot as plt\n",
    "import numpy as np\n",
    "\n",
    "from spectral.preproc import (\n",
    "    load_data,\n",
    "    zapline_clean,\n",
    "    apply_pyprep,\n",
    ")\n",
    "from spectral.utils import ProjectPaths, print_timestamp, load_config\n",
    "\n",
    "mne.viz.set_browser_backend(\"matplotlib\")\n",
    "# mne.viz.set_browser_backend(\"qt\")\n",
    "mne.set_config(\"MNE_BROWSER_THEME\", \"light\")\n",
    "\n",
    "# Initialize paths for your subject\n",
    "subject_id = 101  # or whatever subject you're working with\n",
    "paths = ProjectPaths(subject_id)\n",
    "\n",
    "# Create all directories\n",
    "paths.create_directories()\n",
    "\n",
    "# This is analysis output, so it goes in the analysis folder\n",
    "specparam_path = paths.analysis / \"specparam\"\n",
    "specparam_path.mkdir(exist_ok=True)\n",
    "\n",
    "# Print paths to verify\n",
    "print_timestamp(\"Setting up project paths\")\n",
    "paths.show()"
   ]
  },
  {
   "cell_type": "code",
   "execution_count": 6,
   "id": "8ec76a30",
   "metadata": {},
   "outputs": [
    {
     "name": "stdout",
     "output_type": "stream",
     "text": [
      "Channels to remove: ['E67', 'E73', 'E82', 'E91', 'E92', 'E102', 'E111', 'E120', 'E133', 'E145', 'E165', 'E174', 'E187', 'E199', 'E208', 'E209', 'E216', 'E217', 'E218', 'E219', 'E225', 'E226', 'E227', 'E228', 'E229', 'E230', 'E231', 'E232', 'E233', 'E234', 'E235', 'E236', 'E237', 'E238', 'E239', 'E240', 'E241', 'E242', 'E243', 'E244', 'E245', 'E246', 'E247', 'E248', 'E249', 'E250', 'E251', 'E252', 'E253', 'E254', 'E255', 'E256']\n",
      "Loading data from: /Users/daniel/PhD/Projects/psd-paths/data/raw/sub-101/ses-01/eeg/sub-101_ses-01_task-rest_eeg.set\n",
      "Loaded 258 channels, 300.4 seconds of data\n",
      "Identified ECG channels: ['ECG']\n",
      "Removed 'VREF' channel.\n",
      "Applying GSN-HydroCel-256 montage...\n",
      "Polyphase resampling neighborhood: ±2 input samples\n",
      "Sampling frequency of the instance is already 250.0, returning unmodified.\n",
      "Filtering raw data in 1 contiguous segment\n",
      "Setting up band-stop filter\n",
      "\n",
      "FIR filter parameters\n",
      "---------------------\n",
      "Designing a one-pass, zero-phase, non-causal bandstop filter:\n",
      "- Windowed time-domain design (firwin) method\n",
      "- Hamming window with 0.0194 passband ripple and 53 dB stopband attenuation\n",
      "- Lower transition bandwidth: 0.50 Hz\n",
      "- Upper transition bandwidth: 0.50 Hz\n",
      "- Filter length: 1651 samples (6.604 s)\n",
      "\n"
     ]
    },
    {
     "name": "stderr",
     "output_type": "stream",
     "text": [
      "[Parallel(n_jobs=1)]: Done  17 tasks      | elapsed:    0.0s\n",
      "[Parallel(n_jobs=1)]: Done  71 tasks      | elapsed:    0.2s\n"
     ]
    },
    {
     "name": "stdout",
     "output_type": "stream",
     "text": [
      "Filtering raw data in 1 contiguous segment\n",
      "Setting up band-pass filter from 1 - 40 Hz\n",
      "\n",
      "FIR filter parameters\n",
      "---------------------\n",
      "Designing a one-pass, zero-phase, non-causal bandpass filter:\n",
      "- Windowed time-domain design (firwin) method\n",
      "- Hamming window with 0.0194 passband ripple and 53 dB stopband attenuation\n",
      "- Lower passband edge: 1.00\n",
      "- Lower transition bandwidth: 1.00 Hz (-6 dB cutoff frequency: 0.50 Hz)\n",
      "- Upper passband edge: 40.00 Hz\n",
      "- Upper transition bandwidth: 10.00 Hz (-6 dB cutoff frequency: 45.00 Hz)\n",
      "- Filter length: 825 samples (3.300 s)\n",
      "\n"
     ]
    },
    {
     "name": "stderr",
     "output_type": "stream",
     "text": [
      "[Parallel(n_jobs=1)]: Done 161 tasks      | elapsed:    0.3s\n",
      "[Parallel(n_jobs=1)]: Done 205 out of 205 | elapsed:    0.4s finished\n",
      "[Parallel(n_jobs=1)]: Done  17 tasks      | elapsed:    0.0s\n",
      "[Parallel(n_jobs=1)]: Done  71 tasks      | elapsed:    0.1s\n"
     ]
    },
    {
     "name": "stdout",
     "output_type": "stream",
     "text": [
      "\n",
      "=== Checking for reference channel issues ===\n"
     ]
    },
    {
     "name": "stderr",
     "output_type": "stream",
     "text": [
      "[Parallel(n_jobs=1)]: Done 161 tasks      | elapsed:    0.2s\n",
      "[Parallel(n_jobs=1)]: Done 205 out of 205 | elapsed:    0.3s finished\n"
     ]
    },
    {
     "data": {
      "text/plain": [
       "[]"
      ]
     },
     "execution_count": 6,
     "metadata": {},
     "output_type": "execute_result"
    }
   ],
   "source": [
    "# Load the configuration\n",
    "config = load_config()\n",
    "\n",
    "# Access the bad channels list\n",
    "bad_channels = config[\"preprocessing\"][\"channels_to_remove\"]\n",
    "print(f\"Channels to remove: {bad_channels}\")\n",
    "\n",
    "fline = [50, 100]  # Line noise frequencies\n",
    "h_freq = 40\n",
    "l_freq = 1\n",
    "\n",
    "filter_params = {\n",
    "    \"l_freq\": l_freq,\n",
    "    \"h_freq\":h_freq,\n",
    "    \"h_trans_bandwidth\": \"auto\",\n",
    "    \"fir_window\": \"hamming\",\n",
    "    \"fir_design\": \"firwin\",\n",
    "    \"phase\": \"zero\",\n",
    "    \"picks\": [\"ecg\", \"eeg\"],\n",
    "}\n",
    "\n",
    "raw = load_data(subject_id, data_path=paths.data).resample(\n",
    "    250, method=\"polyphase\", verbose=True\n",
    ")\n",
    "total_duration = raw.times[-1]\n",
    "\n",
    "raw_filtered = (\n",
    "    raw.copy()\n",
    "    .resample(250, method=\"polyphase\", verbose=True)\n",
    "    .drop_channels(bad_channels)\n",
    "    .notch_filter(freqs=[fline], method=\"fir\",   picks=['eeg', 'ecg'])\n",
    "    .filter(**filter_params)\n",
    "    .crop(tmin=3.0, tmax=total_duration - 3, include_tmax=True)\n",
    ")\n",
    "\n",
    "\n",
    "from spectral.artifacts import detect_bad_channels_comprehensive, detect_bad_segments_adaptive,identify_and_handle_reference_channel\n",
    "\n",
    "raw = identify_and_handle_reference_channel(raw)\n",
    "raw.info[\"bads\"]"
   ]
  },
  {
   "cell_type": "code",
   "execution_count": null,
   "id": "f5b75faa",
   "metadata": {},
   "outputs": [
    {
     "ename": "NameError",
     "evalue": "name 'raw' is not defined",
     "output_type": "error",
     "traceback": [
      "\u001b[31m---------------------------------------------------------------------------\u001b[39m",
      "\u001b[31mNameError\u001b[39m                                 Traceback (most recent call last)",
      "\u001b[36mCell\u001b[39m\u001b[36m \u001b[39m\u001b[32mIn[2]\u001b[39m\u001b[32m, line 7\u001b[39m\n\u001b[32m      5\u001b[39m line_freq = \u001b[32m50.0\u001b[39m\n\u001b[32m      6\u001b[39m low_freq = \u001b[32m1.0\u001b[39m\n\u001b[32m----> \u001b[39m\u001b[32m7\u001b[39m raw = identify_and_handle_reference_channel(\u001b[43mraw\u001b[49m)\n\u001b[32m      8\u001b[39m high_freq = \u001b[32m40.0\u001b[39m,\n\u001b[32m      9\u001b[39m \u001b[38;5;28mprint\u001b[39m(\u001b[33m\"\u001b[39m\u001b[38;5;130;01m\\n\u001b[39;00m\u001b[33m=== Step 2: Removing line noise ===\u001b[39m\u001b[33m\"\u001b[39m)\n",
      "\u001b[31mNameError\u001b[39m: name 'raw' is not defined"
     ]
    }
   ],
   "source": [
    "# Step 2: Remove line noise (before other processing)\n",
    "\n",
    "line_freq = 50.0\n",
    "low_freq = 1.0\n",
    "\n",
    "high_freq = 40.0,\n",
    "print(\"\\n=== Step 2: Removing line noise ===\")\n",
    "raw_zapped = zapline_clean(\n",
    "    raw, \n",
    "    fline=line_freq, \n",
    "    ntimes=2,  # Conservative\n",
    "    method='line'\n",
    ")\n",
    "\n",
    "# Step 3: Detect bad channels (on minimally processed data)\n",
    "print(\"\\n=== Step 3: Detecting bad channels ===\")\n",
    "bad_channels, bad_channels_by_method = detect_bad_channels_comprehensive(\n",
    "    raw_zapped,\n",
    "    use_pyprep=True,\n",
    "    use_autoreject_epochs=True\n",
    ")\n",
    "    "
   ]
  },
  {
   "cell_type": "code",
   "execution_count": null,
   "id": "7dade1d0",
   "metadata": {},
   "outputs": [],
   "source": [
    "\n",
    "from spectral.artifacts import detect_bad_channels_comprehensive, detect_bad_segments_adaptive\n",
    "\n",
    "preprocessing_info = {\n",
    "    'subject_id': subject_id,\n",
    "    'original_n_channels': len(raw.ch_names),\n",
    "    'original_duration': raw.times[-1]\n",
    "}\n",
    "# Step 3: Detect bad channels (on minimally processed data)\n",
    "print(\"\\n=== Step 3: Detecting bad channels ===\")\n",
    "bad_channels, bad_channels_by_method = detect_bad_channels_comprehensive(\n",
    "    raw_zapped,\n",
    "    use_pyprep=True,\n",
    "    use_autoreject_epochs=True\n",
    ")\n",
    "\n",
    "raw_step3 = raw_zapped.copy()\n",
    "raw_step3.info['bads'] = bad_channels\n",
    "preprocessing_info['bad_channels'] = bad_channels\n",
    "preprocessing_info['bad_channels_by_method'] = bad_channels_by_method\n",
    "\n",
    "# Step 4: Detect bad segments (before filtering)\n",
    "print(\"\\n=== Step 4: Detecting bad segments ===\")\n",
    "bad_annotations = detect_bad_segments_adaptive(\n",
    "    raw_step3,\n",
    "    bad_channels=bad_channels,\n",
    "    epoch_length=1.0,\n",
    "    overlap=0.5\n",
    ")\n",
    "\n",
    "raw_step4 = raw_step3.copy()\n",
    "raw_step4.set_annotations(raw_step4.annotations + bad_annotations)\n",
    "preprocessing_info['n_bad_segments'] = len(bad_annotations)\n",
    "preprocessing_info['bad_time_percent'] = (\n",
    "    sum(bad_annotations.duration) / raw.times[-1] * 100\n",
    ")\n"
   ]
  }
 ],
 "metadata": {
  "kernelspec": {
   "display_name": "psd-paths-3.13",
   "language": "python",
   "name": "psd-paths-3.13"
  },
  "language_info": {
   "codemirror_mode": {
    "name": "ipython",
    "version": 3
   },
   "file_extension": ".py",
   "mimetype": "text/x-python",
   "name": "python",
   "nbconvert_exporter": "python",
   "pygments_lexer": "ipython3",
   "version": "3.13.5"
  }
 },
 "nbformat": 4,
 "nbformat_minor": 5
}
