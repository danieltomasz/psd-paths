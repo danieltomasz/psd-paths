{
 "cells": [
  {
   "cell_type": "raw",
   "id": "52a1d897",
   "metadata": {
    "vscode": {
     "languageId": "raw"
    }
   },
   "source": [
    "---\n",
    "title: \"Copy files to BIDS structure\"\n",
    "format: html\n",
    "---"
   ]
  },
  {
   "cell_type": "markdown",
   "id": "9b6c320c",
   "metadata": {},
   "source": [
    "Below we are defining a path for data folder of the analysis  analysis"
   ]
  },
  {
   "cell_type": "code",
   "execution_count": 7,
   "id": "839bda93",
   "metadata": {},
   "outputs": [
    {
     "name": "stdout",
     "output_type": "stream",
     "text": [
      "MNE version: 1.8.0\n"
     ]
    }
   ],
   "source": [
    "import pandas as pd\n",
    "import mne_bids\n",
    "import mne\n",
    "from pathlib import Path\n",
    "import re\n",
    "\n",
    "# Print the MNE version\n",
    "print(f\"MNE version: {mne.__version__}\")"
   ]
  },
  {
   "cell_type": "code",
   "execution_count": 8,
   "id": "54fb75a1",
   "metadata": {},
   "outputs": [],
   "source": [
    "# I have raw mff data inside a  folder called \"Raw_data\" inside the folder \"DATI_PATHS\"\n",
    "# The output and input doesnt need to be in th same folder, we will use later the file from path_raw_bids folde\n",
    "project_path= \"/Users/daniel/PhD/Projects/psd-paths/\"\n",
    "path_raw_mff = f\"{project_path}data/DATI_PATHS/Raw_data\"\n",
    "path_raw_bids = f\"{project_path}/data/raw/BIDS\" #Copy the data to this location\n",
    "\n",
    "Path(path_raw_bids).mkdir(parents=True, exist_ok=True)\n"
   ]
  },
  {
   "cell_type": "code",
   "execution_count": 10,
   "id": "7f422f1e",
   "metadata": {},
   "outputs": [
    {
     "name": "stdout",
     "output_type": "stream",
     "text": [
      "Reading EGI MFF Header from /Users/daniel/PhD/Projects/psd-paths/data/DATI_PATHS/Raw_data/PATHS_101_Resting_20191120_022103.mff...\n",
      "    Reading events ...\n",
      "    Assembling measurement info ...\n",
      "    Excluding events {} ...\n"
     ]
    },
    {
     "name": "stderr",
     "output_type": "stream",
     "text": [
      "/var/folders/xq/sl7xjp_95qx7wfngy6s6vvg00000gn/T/ipykernel_46928/3482618954.py:5: FutureWarning: events_as_annotations defaults to False in 1.8 but will change to True in 1.9, set it explicitly to avoid this warning\n",
      "  raw = mne.io.read_raw_egi(path, preload=True )\n"
     ]
    },
    {
     "name": "stdout",
     "output_type": "stream",
     "text": [
      "Reading 0 ... 300397  =      0.000 ...   300.397 secs...\n",
      "Writing '/Users/daniel/PhD/Projects/psd-paths/data/raw/BIDS/README'...\n",
      "Writing '/Users/daniel/PhD/Projects/psd-paths/data/raw/BIDS/participants.tsv'...\n",
      "Writing '/Users/daniel/PhD/Projects/psd-paths/data/raw/BIDS/participants.json'...\n",
      "Writing '/Users/daniel/PhD/Projects/psd-paths/data/raw/BIDS/sub-101/ses-01/eeg/sub-101_ses-01_space-CapTrak_electrodes.tsv'...\n",
      "Writing '/Users/daniel/PhD/Projects/psd-paths/data/raw/BIDS/sub-101/ses-01/eeg/sub-101_ses-01_space-CapTrak_coordsystem.json'...\n",
      "Writing '/Users/daniel/PhD/Projects/psd-paths/data/raw/BIDS/dataset_description.json'...\n",
      "Writing '/Users/daniel/PhD/Projects/psd-paths/data/raw/BIDS/sub-101/ses-01/eeg/sub-101_ses-01_task-rest_eeg.json'...\n",
      "Writing '/Users/daniel/PhD/Projects/psd-paths/data/raw/BIDS/sub-101/ses-01/eeg/sub-101_ses-01_task-rest_channels.tsv'...\n",
      "Copying data files to sub-101_ses-01_task-rest_eeg.set\n"
     ]
    },
    {
     "name": "stderr",
     "output_type": "stream",
     "text": [
      "/var/folders/xq/sl7xjp_95qx7wfngy6s6vvg00000gn/T/ipykernel_46928/3482618954.py:13: RuntimeWarning: Converting data files to EEGLAB format\n",
      "  mne_bids.write_raw_bids(raw, bids_path=bids_path,  format='EEGLAB',allow_preload=True,\n"
     ]
    },
    {
     "name": "stdout",
     "output_type": "stream",
     "text": [
      "Writing '/Users/daniel/PhD/Projects/psd-paths/data/raw/BIDS/sub-101/ses-01/sub-101_ses-01_scans.tsv'...\n",
      "Wrote /Users/daniel/PhD/Projects/psd-paths/data/raw/BIDS/sub-101/ses-01/sub-101_ses-01_scans.tsv entry with eeg/sub-101_ses-01_task-rest_eeg.set.\n",
      "Converted /Users/daniel/PhD/Projects/psd-paths/data/DATI_PATHS/Raw_data/PATHS_101_Resting_20191120_022103.mff to BIDS format\n"
     ]
    }
   ],
   "source": [
    "def convert2bids(path, sub, root_path, task='rest', test=True, ):\n",
    "    \"\"\"\n",
    "    Use MNE-BIDS to convert the EEG data to BIDS format.\n",
    "    \"\"\"\n",
    "    raw = mne.io.read_raw_egi(path, preload=True )\n",
    "    raw.set_montage('GSN-HydroCel-257', match_alias={'VREF' :'Cz'})\n",
    "    #raw.plot_sensors(show_names=True);\n",
    "    bids_path = mne_bids.BIDSPath(subject=sub,\n",
    "                                session='01',\n",
    "                                task= task,\n",
    "                                datatype='eeg',\n",
    "                                root=root_path )\n",
    "    mne_bids.write_raw_bids(raw, bids_path=bids_path,  format='EEGLAB',allow_preload=True,\n",
    "                            overwrite=True);\n",
    "\n",
    "# %% Run the conversion in a loop\n",
    "# List all files in the directory\n",
    "files = [file for file in Path(path_raw_mff).glob('*.mff')]\n",
    "\n",
    "#%%\n",
    "for fname in files:\n",
    "    # Use regex to find the first number after \"PATHS\"\n",
    "    match = re.search(r'(?<=PATHS_)(\\d+)|(?<=PATHS_)(\\d+)', fname.stem)\n",
    "    if match:\n",
    "        sub = match.group(1)\n",
    "    convert2bids(fname, sub, root_path = path_raw_bids, task='rest')\n",
    "    print(f\"Converted {fname} to BIDS format\")\n"
   ]
  }
 ],
 "metadata": {
  "kernelspec": {
   "display_name": "psd-paths-3.12",
   "language": "python",
   "name": "psd-paths-3.12"
  },
  "language_info": {
   "codemirror_mode": {
    "name": "ipython",
    "version": 3
   },
   "file_extension": ".py",
   "mimetype": "text/x-python",
   "name": "python",
   "nbconvert_exporter": "python",
   "pygments_lexer": "ipython3",
   "version": "3.12.11"
  }
 },
 "nbformat": 4,
 "nbformat_minor": 5
}
