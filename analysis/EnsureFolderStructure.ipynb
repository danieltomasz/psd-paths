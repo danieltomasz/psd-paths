{
 "cells": [
  {
   "cell_type": "raw",
   "id": "52a1d897",
   "metadata": {
    "vscode": {
     "languageId": "raw"
    }
   },
   "source": [
    "---\n",
    "title: \"Copy files to BIDS structure\"\n",
    "format: html\n",
    "---"
   ]
  },
  {
   "cell_type": "markdown",
   "id": "9b6c320c",
   "metadata": {},
   "source": [
    "Below we are defining a path for data folder of the analysis  analysis"
   ]
  },
  {
   "cell_type": "code",
   "execution_count": 1,
   "id": "839bda93",
   "metadata": {},
   "outputs": [
    {
     "name": "stdout",
     "output_type": "stream",
     "text": [
      "MNE version: 1.10.0\n"
     ]
    }
   ],
   "source": [
    "import pandas as pd\n",
    "import mne_bids\n",
    "import mne\n",
    "from pathlib import Path\n",
    "import re\n",
    "\n",
    "# Print the MNE version\n",
    "print(f\"MNE version: {mne.__version__}\")"
   ]
  },
  {
   "cell_type": "code",
   "execution_count": 3,
   "id": "54fb75a1",
   "metadata": {},
   "outputs": [],
   "source": [
    "# I have raw mff data inside a  folder called \"Raw_data\" inside the folder \"DATI_PATHS\"\n",
    "# The output and input doesnt need to be in th same folder, we will use later the file from path_raw_bids folde\n",
    "project_path= \"/Users/daniel/PhD/Projects/psd-paths/\"\n",
    "path_raw_mff = f\"{project_path}data/DATI_PATHS/Raw_data\"\n",
    "path_raw_bids = f\"{project_path}/data/raw/BIDS\" #Copy the data to this location\n",
    "\n",
    "Path(path_raw_bids).mkdir(parents=True, exist_ok=True)\n"
   ]
  },
  {
   "cell_type": "code",
   "execution_count": 4,
   "id": "7f422f1e",
   "metadata": {},
   "outputs": [],
   "source": [
    "def convert2bids(path, sub, root_path, task='rest', test=True, ):\n",
    "    \"\"\"\n",
    "    Use MNE-BIDS to convert the EEG data to BIDS format.\n",
    "    \"\"\"\n",
    "    raw = mne.io.read_raw_egi(path, preload=True )\n",
    "    raw.set_montage('GSN-HydroCel-257', match_alias={'VREF' :'Cz'})\n",
    "    #raw.plot_sensors(show_names=True);\n",
    "    bids_path = mne_bids.BIDSPath(subject=sub,\n",
    "                                session='01',\n",
    "                                task= task,\n",
    "                                datatype='eeg',\n",
    "                                root=root_path )\n",
    "    mne_bids.write_raw_bids(raw, bids_path=bids_path,  format='EEGLAB',allow_preload=True,\n",
    "                            overwrite=True);\n",
    "\n",
    "# %% Run the conversion in a loop\n",
    "# List all files in the directory\n",
    "files = [file for file in Path(path_raw_mff).glob('*.mff')]\n",
    "\n",
    "#%%\n",
    "for fname in files:\n",
    "    # Use regex to find the first number after \"PATHS\"\n",
    "    match = re.search(r'(?<=PATHS_)(\\d+)|(?<=PATHS_)(\\d+)', fname.stem)\n",
    "    if match:\n",
    "        sub = match.group(1)\n",
    "    convert2bids(fname, sub, root_path = path_raw_bids, task='rest')\n",
    "    print(f\"Converted {fname} to BIDS format\")\n"
   ]
  }
 ],
 "metadata": {
  "kernelspec": {
   "display_name": "psd-paths-3.13",
   "language": "python",
   "name": "psd-paths-3.13"
  },
  "language_info": {
   "codemirror_mode": {
    "name": "ipython",
    "version": 3
   },
   "file_extension": ".py",
   "mimetype": "text/x-python",
   "name": "python",
   "nbconvert_exporter": "python",
   "pygments_lexer": "ipython3",
   "version": "3.13.5"
  }
 },
 "nbformat": 4,
 "nbformat_minor": 5
}
